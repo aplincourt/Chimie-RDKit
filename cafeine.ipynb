{
 "cells": [
  {
   "cell_type": "code",
   "execution_count": null,
   "id": "1d43179d",
   "metadata": {},
   "outputs": [],
   "source": [
    "pip install rdkit"
   ]
  },
  {
   "cell_type": "code",
   "execution_count": null,
   "id": "ad12f241",
   "metadata": {},
   "outputs": [],
   "source": [
    "import pandas as pd\n",
    "from rdkit import Chem\n",
    "from rdkit.Chem.Draw import IPythonConsole"
   ]
  },
  {
   "cell_type": "code",
   "execution_count": null,
   "id": "b2f267b5",
   "metadata": {},
   "outputs": [],
   "source": [
    "caffeine_smiles = 'CN1C=NC2=C1C(=O)N(C(=O)N2C)C' # fill in the SMILES "
   ]
  },
  {
   "cell_type": "code",
   "execution_count": null,
   "id": "cc4c1659",
   "metadata": {},
   "outputs": [],
   "source": [
    "caffeine = Chem.MolFromSmiles(caffeine_smiles)"
   ]
  },
  {
   "cell_type": "code",
   "execution_count": null,
   "id": "dc109749",
   "metadata": {},
   "outputs": [],
   "source": [
    "caffeine"
   ]
  }
 ],
 "metadata": {
  "language_info": {
   "name": "python"
  }
 },
 "nbformat": 4,
 "nbformat_minor": 5
}
