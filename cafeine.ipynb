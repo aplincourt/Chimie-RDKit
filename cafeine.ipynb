{
 "cells": [
  {
   "cell_type": "markdown",
   "id": "339f0e04",
   "metadata": {},
   "source": [
    "<span style=\"color:#FF5733\">RDKit</span> est une boîte à outils largement utilisée dans le milieu universitaire, ainsi que dans les industries pharmaceutique, biotechnologique et chimique pour diverses tâches telles que le criblage virtuel, l'optimisation de leads et la gestion de bases de données chimiques.\n",
    "Installation d'un package Python nommé rdkit à l'aide de l'outil pip.  \n",
    "<span style=\"color:#FF5733\">RDKit</span> est une collection d'outils pour la chimie computationnelle et la chimie des données, souvent utilisée pour la manipulation de structures chimiques, le calcul de propriétés moléculaires, et d'autres tâches liées à la chimie."
   ]
  },
  {
   "cell_type": "code",
   "execution_count": null,
   "id": "1d43179d",
   "metadata": {},
   "outputs": [],
   "source": [
    "!pip install rdkit"
   ]
  },
  {
   "cell_type": "markdown",
   "id": "3902220b",
   "metadata": {},
   "source": [
    "Importation des bibliothèques nécessaires pour travailler avec des données chimiques et des structures moléculaires.  \n",
    "* La bibliothèque <span style=\"color:#FF5733\">pandas</span> est une bibliothèque très populaire en Python pour la manipulation et l'analyse de données.  \n",
    "* Le module Chem de la bibliothèque RDKit contient des fonctions et des classes pour manipuler des structures chimiques, telles que la création de molécules, la conversion de formats de fichiers chimiques, et le calcul de propriétés moléculaires.  \n",
    "* IPythonConsole est utilisé pour afficher des structures moléculaires dans un environnement IPython, comme Jupyter Notebook. Cela permet de visualiser facilement les molécules sous forme d'images directement dans le notebook."
   ]
  },
  {
   "cell_type": "code",
   "execution_count": null,
   "id": "ad12f241",
   "metadata": {},
   "outputs": [],
   "source": [
    "import pandas as pd\n",
    "from rdkit import Chem\n",
    "from rdkit.Chem.Draw import IPythonConsole   # importation de IPythonConsole à partir du sous-module Draw de rdkit.Chem"
   ]
  },
  {
   "cell_type": "markdown",
   "id": "ab5589fd",
   "metadata": {},
   "source": [
    "SMILES (Simplified Molecular Input Line Entry System) est un format de notation textuel qui permet de représenter des structures moléculaires de manière concise."
   ]
  },
  {
   "cell_type": "markdown",
   "id": "b67c6208",
   "metadata": {},
   "source": [
    "<span style=\"font-size:18px; color:#d5b439\"><u>**Exercice 1**</u></span>  \n",
    "Complète la ligne de code suivante en indiquant la chaîne SMILES dans le cas de la caféine."
   ]
  },
  {
   "cell_type": "code",
   "execution_count": null,
   "id": "b2f267b5",
   "metadata": {},
   "outputs": [],
   "source": [
    "cafeine_smiles = '' # complète la ligne de code en indiquant la chaîne SMILES dans le cas de la caféine "
   ]
  },
  {
   "cell_type": "markdown",
   "id": "b047b470",
   "metadata": {},
   "source": [
    "La chaîne SMILES de la caféine est convertie en un objet moléculaire RDKit. Cet objet peut ensuite être utilisé pour effectuer diverses opérations, telles que le calcul de propriétés moléculaires, la visualisation de la structure, ou la manipulation de la molécule."
   ]
  },
  {
   "cell_type": "code",
   "execution_count": null,
   "id": "cc4c1659",
   "metadata": {},
   "outputs": [],
   "source": [
    "cafeine = Chem.MolFromSmiles(cafeine_smiles)"
   ]
  },
  {
   "cell_type": "markdown",
   "id": "1e175f21",
   "metadata": {},
   "source": [
    "La valeur de la variable \"cafeine\" est affichée en saisissant son nom puis en exécutant la cellule. Dans ce cas, nous pouvons visualiser la molécule de cette façon."
   ]
  },
  {
   "cell_type": "code",
   "execution_count": null,
   "id": "dc109749",
   "metadata": {},
   "outputs": [],
   "source": [
    "cafeine"
   ]
  },
  {
   "cell_type": "markdown",
   "id": "94c8d68b",
   "metadata": {},
   "source": [
    "<span style=\"font-size:18px; color:#d5b439\"><u>**Exercice 2**</u></span>  \n",
    "Ecrire des lignes de code permettant d'obtenir :  \n",
    "* le nombre total d'atomes dans la caféine.\n",
    "* le nombre total de liaisons dans la caféine."
   ]
  },
  {
   "cell_type": "code",
   "execution_count": null,
   "id": "679f001e",
   "metadata": {},
   "outputs": [],
   "source": [
    "# Code permettant d'obtenir le nombre total d'atomes dans la caféine\n",
    "\n",
    "\n",
    "# Code permettant d'obtenir le nombre total de liaisons dans la caféine"
   ]
  }
 ],
 "metadata": {
  "language_info": {
   "name": "python"
  }
 },
 "nbformat": 4,
 "nbformat_minor": 5
}
